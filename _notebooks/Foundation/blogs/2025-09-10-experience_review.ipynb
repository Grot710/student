{
 "cells": [
  {
   "cell_type": "markdown",
   "id": "dc45c843",
   "metadata": {},
   "source": [
    "---\n",
    "layout: post\n",
    "data: blogs\n",
    "title: Learning Experience Blog\n",
    "description: Past experiences in CSSE sprint 1\n",
    "permalink: blogs/experience_review\n",
    "breadcrumb: /blogs\n",
    "breadcrumb: True\n",
    "---"
   ]
  },
  {
   "cell_type": "markdown",
   "id": "13523f55",
   "metadata": {},
   "source": [
    "## Table of Contents\n",
    "\n",
    "- [Jupyter Notebooks](#jupyter-notebooks)\n",
    "- [Theme Changing](#theme-changing)\n",
    "- [Jupyter Notebooks Part Two](#jupyter-notebooks-part-two)\n",
    "- [Hacks and Games](#hacks-and-games)\n",
    "    - [Snake](#snake)\n",
    "    - [Memory](#memory)"
   ]
  },
  {
   "cell_type": "markdown",
   "id": "f5007887",
   "metadata": {},
   "source": [
    "# Sprint 1 Experiences\n"
   ]
  },
  {
   "cell_type": "markdown",
   "id": "dd1991f7",
   "metadata": {},
   "source": [
    "## Jupyter Notebooks\n",
    "\n",
    "One of the first things I learned was how to use Jupyter Notebooks. Jupyter Notebooks allows me to create blogs and posts like this one right now. I can generate different markdown cells that will allow me to code in markdown to make these posts. However, before I started this, I tested out executing cells with the VSCode console. To execute cells, I\n",
    " - Went to the Jupyter Notebook .ipynb file\n",
    " - Changed the kernel to python 3.12\n",
    " - Toggled developer tools\n",
    " - Went to console\n",
    " - Executed Notebook cell\n",
    " - Watched how the script printed out what was written on the cell\n",
    "\n",
    "---"
   ]
  },
  {
   "cell_type": "markdown",
   "id": "be1ef10b",
   "metadata": {},
   "source": [
    "## Theme Changing\n",
    "\n",
    "Next, I used different Jekyll themes such as yat, and minima. This allowed me to change the style and look of this website. To do this, I went into my config.yml file, and changed it from\n",
    "\n",
    "```\n",
    "remote_theme: jekyll/minima\n",
    "minima:\n",
    "  skin: dark\n",
    "  social_links:\n",
    "    - { platform: github, user_url: \"https://github.com/open-coding-society\" }\n",
    "    - { platform: x, user_url: \"https://x.com/Open_Coding\" }\n",
    "    - { platform: youtube, user_url: \"https://www.youtube.com/@OpenCodingSociety\" } \n",
    "plugins:\n",
    "  - jekyll-remote-theme\n",
    "  - jekyll-include-cache\n",
    "header_pages:\n",
    "  - navigation/blog.md\n",
    "  - navigation/search.md\n",
    "  - navigation/about.md\n",
    "  - navigation/logintoolkit.md\n",
    "```\n",
    "to\n",
    "\n",
    "```\n",
    "remote_theme: pages-themes/cayman@v0.2.0\n",
    "plugins:\n",
    "  - jekyll-remote-theme\n",
    "\n",
    "header_pages:\n",
    "  - navigation/section/csse.md\n",
    "  - navigation/section/csp.md\n",
    "  - navigation/section/csa.md \n",
    "  - navigation/blog.md\n",
    "  - navigation/search.md\n",
    "  - navigation/logintoolkit.md\n",
    "  ```\n",
    "This changes the source of the theme, and allows Jekyll to change the theme based off the origin when I ran make in VSCode terminal. One other method I used on my team pages repo was to go into the VSCode terminal, and before running make, I would use the command\n",
    "```bash\n",
    "make use-(theme)\n",
    "make\n",
    "```\n",
    "This allows me to use a function from my MakeFile, to change all of the current code in config.yml and other files used in the theme, to the files of the other theme, so when I run make it uses the config.yml of the other theme.\n",
    "\n",
    "---"
   ]
  },
  {
   "cell_type": "markdown",
   "id": "ee3b25a1",
   "metadata": {},
   "source": [
    "## Jupyter Notebooks Part Two\n",
    "\n",
    "Next, to make blogs like these, I directly created my own .ipynb file instead of using a template, and started editing it. I read markdown cheat sheets to learn how to add flair to my blogs, by using typography such as **bold**, *italics*, and <u>underline</u>. I used AI to aid me when I was unsure on how to add certain things, such as the table of contents at the top, which leads you to different sections of this blog.\n",
    "\n",
    "---"
   ]
  },
  {
   "cell_type": "markdown",
   "id": "405d18af",
   "metadata": {},
   "source": [
    "## Hacks and Games\n",
    "\n",
    "The final thing I added to my website, was games. I updated games on the website such as snake, and a memory card game. The first thing I changed was snake.\n",
    "\n",
    "### Snake\n",
    "\n",
    "In snake, I edited a pre-made template of snake, to make it more user-friendly and overall cleaner. I had a list of things to change, which included\n",
    " - Changing the name of the score\n",
    " - Changing the background\n",
    " - Changing the color of the snake and apples\n",
    " - Editing the color of the snake's head and body\n",
    "I started by changing the name of the score to apples. This was done by changing<br/>   \n",
    "\n",
    "```bash\n",
    "<p class=\"fs-4\">Score: <span id=\"score_value\">0</span></p>\n",
    "```\n",
    "\n",
    "to\n",
    "\n",
    "```bash\n",
    "<p class=\"fs-4\">Apples: <span id=\"score_value\">0</span></p>\n",
    "```\n",
    "This changed the name on the website to Apples, but kept all of the code related names from score value. Next I changed the background, by swapping it from a flat dark blue to a checkerboard dark and light green, which I did a similar thing for both the snake and apple color, in which I added a changeable color option for both the snake and apple which converted into blue and red. Lastly, for changing the colors of the snakes head compared to the body, I made it so that the first square of the snake (the head) had a different color compared to the rest of the body.\n",
    "\n",
    "---\n",
    "\n",
    "### Memory\n",
    "\n",
    "2025-09-10<br/>\n",
    "Currently, my memory game isn't fulled tweaked, I still need to add a highscore element, but so far I have added another score counter on the game that says \"Least Amount of Attempts\". The end goal with this is to use localStorage to add a highscore system for the least attempts that saves even when you start a new game.\n"
   ]
  }
 ],
 "metadata": {
  "language_info": {
   "name": "python"
  }
 },
 "nbformat": 4,
 "nbformat_minor": 5
}
