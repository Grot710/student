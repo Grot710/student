{
 "cells": [
  {
   "cell_type": "markdown",
   "id": "6817b145",
   "metadata": {},
   "source": [
    "---\n",
    "layout: post\n",
    "data: tools\n",
    "title: Typography with Markdown\n",
    "description: How to use markdown to customize your website with tips and tricks\n",
    "categories: ['Markdown']\n",
    "permalink: /tools/markdown_tricks\n",
    "breadcrumb: /tools\n",
    "breadcrumb: True\n",
    "---"
   ]
  },
  {
   "cell_type": "markdown",
   "id": "f6bbf90b",
   "metadata": {},
   "source": [
    "# Markdown Cheat Sheet for Typography\n",
    "\n",
    "Markdown can be used to change how your website works, and this post is meant to help you go over the different methods you can use to make your website look better.\n",
    "\n",
    "⌨️**Why use typography?**\n",
    "Typography allows for:\n",
    " - **Attention guiding through visual hierarchy**\n",
    " - *Emphasizes important ideas through fonts and slight nuances*\n",
    " - <u>Allows your website to stick out compared to others</u>\n",
    " - Gives you the opportunity to make your website more appealing and liked by others\n",
    "\n",
    "---"
   ]
  },
  {
   "cell_type": "markdown",
   "id": "7ff94081",
   "metadata": {},
   "source": [
    " - Lets you seperate different ideas with the horizontal line shown above\n",
    " - Lets you show what you are doing in the backend of the website\n",
    "```\n",
    "Markdown has a variety of uses for making your website look better and user friendly\n",
    "```"
   ]
  },
  {
   "cell_type": "markdown",
   "id": "02a8c08a",
   "metadata": {},
   "source": [
    "### Basic Syntax\n",
    "\n",
    "| Element      | Markdown Syntax |\n",
    "|--------------|:----------|\n",
    "| Heading      | # H1<br/>## H2<br/>### H3  |\n",
    "| Bold     | \\*\\*bold text**  |\n",
    "| Italic    | \\*italicized text* |\n",
    "| Blockquote     | > blockquote    |\n",
    "| Ordered List      | 1. First item<br/>2. Second item<br/>3. Third item     |\n",
    "| Unordered List     | - First item<br/>- Second item<br/>- Third item   |\n",
    "| Code    | \\`code` |\n",
    "| Horizontal Rule     |  ---   |\n",
    "| Link    | \\[title](https://www.example.com) |\n",
    "| Image     | \\!\\[alt text](image.jpg)    |\n",
    "| Escape Character     | \\\\\\*non italicized text*    |\n"
   ]
  },
  {
   "cell_type": "markdown",
   "id": "ae681752",
   "metadata": {},
   "source": [
    "The table above shows basic typography you can add to your website"
   ]
  },
  {
   "cell_type": "markdown",
   "id": "60eb5f53",
   "metadata": {},
   "source": [
    "### Extended Syntax\n",
    "\n",
    "\n",
    "| Element      | Markdown Syntax |\n",
    "|--------------|:----------|\n",
    "| Table      | \\| Syntax \\| Description \\|<br/>\\| ----------- \\| ----------- \\|<br/>\\| Header \\| Title \\|<br/>\\| Paragraph \\| Text \\| |\n",
    "| Fenced Code Block     | \\`\\`\\`<br/>\\{<br/>&nbsp;&nbsp;\"firstName\": \"John\",<br/>&nbsp;&nbsp;\"lastName\": \"Smith\"<br/>}<br/>\\`\\`\\` |\n",
    "| Footnote    | Here's a sentence with a footnote. \\[^1] <br/> <br/>\\[^1]: This is the footnote |\n",
    "| Heading ID     | \\### My Great Heading \\{#custom-id}    |\n",
    "| Definition List      |  term<br/>: definition    |\n",
    "| Strikethrough     | \\~\\~The world is flat.~~   |\n",
    "| Emoji<br/>(see also Copying and Pasting Emoji)    | That is so funny! \\:joy:  |\n",
    "| Highlight     |  I need to highlight these \\<mark>very important words\\</mark>   |\n",
    "| Subscript    | H\\~2~0 |\n",
    "| Superscript     |     X\\^2\\^     |"
   ]
  },
  {
   "cell_type": "markdown",
   "id": "61e8ff29",
   "metadata": {},
   "source": [
    "This next table shows more <mark>advanced</mark> typography available"
   ]
  },
  {
   "cell_type": "markdown",
   "id": "bfdbb39b",
   "metadata": {},
   "source": [
    "All of these *little* nuances can be used to elevate the way you use your website to teach and inform"
   ]
  },
  {
   "cell_type": "markdown",
   "id": "aaea22f6",
   "metadata": {},
   "source": [
    "# How to use typography properly\n",
    "1. Use headings to properly create a clear structure for your website<br/>(Don't just **bold** everything)\n",
    "2. You can use horizontal lines with \\-\\-\\- to seperate ideas, or have gaps to break up large paragraphs\n",
    "3. Do not use too many different styles without reason, otherwise the reader will feel overwhelmed. Stick to one consistent, clean, style"
   ]
  },
  {
   "cell_type": "markdown",
   "id": "2145f367",
   "metadata": {},
   "source": [
    "## Practice\n",
    "Try using markdown in places like GitHub README.md files, VSCode (with previews), Jekyll, or Jupyter Notebooks.\n",
    "For example, here would be a quick about me section made with markdown:\n",
    "```\n",
    "## About me\n",
    "### Hobbies\n",
    "Many hobbies i enjoy include:\n",
    " - Pickleball\n",
    " - Watches\n",
    " - Cooking<br/>\n",
    "\n",
    "### Fun Facts\n",
    "1. I can solve a rubix cube in under 30 seconds\n",
    "2. My favorite food is tacos\n",
    "3. I don't like eggplant<br/>\n",
    "\n",
    "### Social Media\n",
    "Here are links to my social media accounts:<br/>\n",
    "[MySocialMediaAccount](https://www.twitter.com)<br/>\n",
    "[MySocialMediaAccount](https://www.instagram.com)<br/>\n",
    "```\n",
    "(The \\<br/> is used to make a new line)<br/>\n",
    "When done, it looks like:\n",
    "## About me\n",
    "### Hobbies\n",
    "Many hobbies i enjoy include:\n",
    " - Pickleball\n",
    " - Watches\n",
    " - Cooking<br/>\n",
    " \n",
    "### Fun Facts\n",
    "1. I can solve a rubix cube in under 30 seconds\n",
    "2. My favorite food is tacos\n",
    "3. I don't like eggplant<br/>\n",
    "\n",
    "### Social Media\n",
    "Here are links to my social media accounts:<br/>\n",
    "[MySocialMediaAccount](https://www.twitter.com)<br/>\n",
    "[MySocialMediaAccount](https://www.instagram.com)\n",
    "\n",
    "---"
   ]
  },
  {
   "cell_type": "markdown",
   "id": "32ae02dd",
   "metadata": {},
   "source": [
    "\n",
    "Try adding requirements to your pages to further improve your skills, such as\n",
    " - One heading\n",
    " - One **bolded** word\n",
    " - A bullet list<br/>(Like the one you are reading right now)\n",
    " - A link relating to one of the topics mentioned in your page"
   ]
  }
 ],
 "metadata": {
  "language_info": {
   "name": "python"
  }
 },
 "nbformat": 4,
 "nbformat_minor": 5
}
